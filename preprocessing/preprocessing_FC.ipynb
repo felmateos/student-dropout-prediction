{
 "cells": [
  {
   "cell_type": "markdown",
   "metadata": {},
   "source": [
    "# Scripts de pré-processamento"
   ]
  },
  {
   "cell_type": "code",
   "execution_count": 2,
   "metadata": {},
   "outputs": [],
   "source": [
    "import pandas as pd\n",
    "import numpy as np\n",
    "from imblearn.under_sampling import TomekLinks\n",
    "from imblearn.over_sampling import SMOTE\n",
    "from sklearn.preprocessing import OneHotEncoder"
   ]
  },
  {
   "cell_type": "code",
   "execution_count": 3,
   "metadata": {},
   "outputs": [],
   "source": [
    "def hybrid_balancing(X: pd.DataFrame, y: pd.Series, tomek: str = 'majority', smote: str = 'not majority') -> pd.DataFrame:\n",
    "    \"\"\"\n",
    "    Retorna um DataFrame com as classes balanceadas das seguinte forma:\n",
    "    1. Reduz a classe majoritária usando liagacoes de TOMEK (remover instancias que nao adicionam muita informacao).\n",
    "    2. Equaliza as demais classes usando SMOTE para ficarem com a mesma quantidade de instancias que a classe majoritaria.\n",
    "\n",
    "    :param X: DataFrame com as variaveis independentes\n",
    "    :X type: pd.DataFrame\n",
    "    :param y: Series com a variavel dependente\n",
    "    :y type: pd.Series\n",
    "    :param tomek: tipo de undersampling a ser feito pelo TOMEK\n",
    "    :tomek type: str\n",
    "    :param smote: tipo de oversampling a ser feito pelo SMOTE\n",
    "    :smote type: str\n",
    "    :return: DataFrame transformado\n",
    "    :rtype: pd.Dataframe\n",
    "    \"\"\"\n",
    "    X_cp = X.copy()\n",
    "    y_cp = y.copy()\n",
    "    tl = TomekLinks(sampling_strategy=tomek)\n",
    "    X_tl, y_tl = tl.fit_resample(X_cp, y_cp)\n",
    "    sm = SMOTE(sampling_strategy=smote)\n",
    "    X_tl_sm, y_tl_sm = sm.fit_resample(X_tl, y_tl)\n",
    "    df_tl_sm = pd.concat([X_tl_sm, y_tl_sm], axis=1)\n",
    "    return df_tl_sm"
   ]
  },
  {
   "cell_type": "code",
   "execution_count": 4,
   "metadata": {},
   "outputs": [],
   "source": [
    "def one_hot_encoding(df: pd.DataFrame, cols: list) -> pd.DataFrame:\n",
    "    \"\"\"\n",
    "    Executa o One Hot Encoding em cada coluna fornecida de um DataFrame.\n",
    "\n",
    "    :param df: DataFrame alvo das transformacoes\n",
    "    :df type: pd.DataFrame\n",
    "    :param cols: Lista de colunas que devem ser transformadas\n",
    "    :cols type: list\n",
    "    :return: DataFrame transformado\n",
    "    :rtype: pd.Dataframe\n",
    "    \"\"\"\n",
    "    df_cp = df.copy()\n",
    "    df_encoded = df.copy()\n",
    "    encoder = OneHotEncoder()\n",
    "    for col in cols:\n",
    "        encoded_data = encoder.fit_transform(df_cp[[col]])\n",
    "        encoded_cols = pd.DataFrame(encoded_data.toarray(), columns=encoder.get_feature_names_out([col]))\n",
    "        df_encoded = pd.concat([df_encoded, encoded_cols], axis=1)\n",
    "    return df_encoded"
   ]
  },
  {
   "cell_type": "code",
   "execution_count": null,
   "metadata": {},
   "outputs": [],
   "source": []
  }
 ],
 "metadata": {
  "kernelspec": {
   "display_name": "Python 3",
   "language": "python",
   "name": "python3"
  },
  "language_info": {
   "codemirror_mode": {
    "name": "ipython",
    "version": 3
   },
   "file_extension": ".py",
   "mimetype": "text/x-python",
   "name": "python",
   "nbconvert_exporter": "python",
   "pygments_lexer": "ipython3",
   "version": "3.12.3"
  }
 },
 "nbformat": 4,
 "nbformat_minor": 2
}
