{
 "cells": [
  {
   "cell_type": "markdown",
   "metadata": {},
   "source": [
    "# Scripts de pré-processamento"
   ]
  },
  {
   "cell_type": "code",
   "execution_count": 1,
   "metadata": {},
   "outputs": [],
   "source": [
    "from sklearn.model_selection import train_test_split\n",
    "\n",
    "from preprocess_funcs import *"
   ]
  },
  {
   "cell_type": "code",
   "execution_count": 2,
   "metadata": {},
   "outputs": [],
   "source": [
    "def save_current(label, X_train, y_train, X_test=None, y_test=None, test=True):\n",
    "    df_train = pd.concat([X_train, y_train], axis=1)\n",
    "    df_train_blcd = hybrid_balancing(X_train, y_train, auto=True)\n",
    "\n",
    "    df_train.to_csv(f'../data/preprocessed/train-validation/{label}.csv')\n",
    "    df_train_blcd.to_csv(f'../data/preprocessed/train-validation/balanced/{label}.csv')\n",
    "    if test == False:\n",
    "        return\n",
    "    df_test = pd.concat([X_test, y_test], axis=1)\n",
    "    df_test.to_csv(f'../data/preprocessed/test/{label}.csv')\n"
   ]
  },
  {
   "cell_type": "code",
   "execution_count": 3,
   "metadata": {},
   "outputs": [],
   "source": [
    "df = pd.read_csv('../data/students.csv')"
   ]
  },
  {
   "cell_type": "markdown",
   "metadata": {},
   "source": [
    "## Remoção de colunas com baixa importancia (consultar arquivos no diretório 'exploratory analysis' para mais detalhes)"
   ]
  },
  {
   "cell_type": "code",
   "execution_count": 4,
   "metadata": {},
   "outputs": [
    {
     "name": "stderr",
     "output_type": "stream",
     "text": [
      "c:\\Users\\Felipe Castro\\AppData\\Local\\Programs\\Python\\Python312\\Lib\\site-packages\\joblib\\externals\\loky\\backend\\context.py:136: UserWarning: Could not find the number of physical cores for the following reason:\n",
      "found 0 physical cores < 1\n",
      "Returning the number of logical cores instead. You can silence this warning by setting LOKY_MAX_CPU_COUNT to the number of cores you want to use.\n",
      "  warnings.warn(\n",
      "  File \"c:\\Users\\Felipe Castro\\AppData\\Local\\Programs\\Python\\Python312\\Lib\\site-packages\\joblib\\externals\\loky\\backend\\context.py\", line 282, in _count_physical_cores\n",
      "    raise ValueError(f\"found {cpu_count_physical} physical cores < 1\")\n"
     ]
    }
   ],
   "source": [
    "drop_cols = [\n",
    "    'Nacionality', \n",
    "    'Educational special needs', \n",
    "    'International',\n",
    "    'Curricular units 1st sem (credited)',\n",
    "    'Curricular units 1st sem (enrolled)',\n",
    "    'Curricular units 1st sem (grade)',\n",
    "    'Curricular units 2nd sem (credited)',\n",
    "    'Curricular units 2nd sem (enrolled)',\n",
    "    'Curricular units 2nd sem (grade)',\n",
    "    'Curricular units 1st sem (evaluations)',\n",
    "    'Curricular units 1st sem (without evaluations)',\n",
    "    'Curricular units 2nd sem (evaluations)',\n",
    "    'Curricular units 2nd sem (without evaluations)'\n",
    "    ]\n",
    "\n",
    "df_drp = df.drop(columns=drop_cols)\n",
    "\n",
    "X = df_drp.loc[:, df_drp.columns != 'Target']\n",
    "y = df_drp['Target']\n",
    "\n",
    "y = y.apply(lambda x: 'Graduate_or_Enrolled' if x != 'Dropout' else x)\n",
    "\n",
    "X_train, X_test, y_train, y_test = train_test_split(X, y, test_size=0.2, random_state=777, stratify=y)\n",
    "\n",
    "save_current('drp', X_train, y_train, X_test, y_test)"
   ]
  },
  {
   "cell_type": "markdown",
   "metadata": {},
   "source": [
    "## One-hot-encoding e Normalização"
   ]
  },
  {
   "cell_type": "code",
   "execution_count": 5,
   "metadata": {},
   "outputs": [],
   "source": [
    "cat_drp_nb_cols = [\n",
    "    'Marital status', \n",
    "    'Application mode', \n",
    "    'Course',\n",
    "    'Previous qualification',\n",
    "    'Mother\\'s qualification', \n",
    "    'Father\\'s qualification',\n",
    "    'Mother\\'s occupation', \n",
    "    'Father\\'s occupation', \n",
    "    'Application order'\n",
    "    ]\n",
    "\n",
    "cat_drp_b_cols = [\n",
    "    'Daytime/evening attendance', \n",
    "    'Displaced',\n",
    "    'Debtor', \n",
    "    'Tuition fees up to date',\n",
    "    'Gender', \n",
    "    'Scholarship holder',\n",
    "]\n",
    "\n",
    "num_drp_cols = [\n",
    "    'Age at enrollment',\n",
    "    'Curricular units 1st sem (approved)',\n",
    "    'Curricular units 2nd sem (approved)',\n",
    "    'Unemployment rate',\n",
    "    'Inflation rate', \n",
    "    'GDP'\n",
    "]\n",
    "\n",
    "cat_vars = X[cat_drp_nb_cols] # Ex.: 'Marital status' = {0, 1, 2, 3, ...}\n",
    "bin_var = X[cat_drp_b_cols] # Ex.: 'International' = {0, 1}\n",
    "num_vars = X[num_drp_cols] # Ex.: 'Age at enrollment' = {17, 18, 19, ...}\n",
    "\n",
    "cat_vars_OHE = one_hot_encoding(cat_vars, cat_drp_nb_cols)\n",
    "num_vars_scaled = scaling(num_vars, 'minmax')\n",
    "\n",
    "# apenas one hot encoding\n",
    "XOHE = pd.concat([cat_vars_OHE, bin_var, num_vars, y], axis=1)\n",
    "\n",
    "X = XOHE.loc[:, XOHE.columns != 'Target']\n",
    "y = XOHE['Target']\n",
    "X_train, X_test, y_train, y_test = train_test_split(X, y, test_size=0.2, random_state=777, stratify=y)\n",
    "\n",
    "save_current('drp_XOHE', X_train, y_train, X_test, y_test)\n",
    "\n",
    "\n",
    "# apenas normalização\n",
    "scaled = pd.concat([cat_vars, bin_var, num_vars_scaled, y], axis=1)\n",
    "\n",
    "X = scaled.loc[:, scaled.columns != 'Target']\n",
    "y = scaled['Target']\n",
    "X_train, X_test, y_train, y_test = train_test_split(X, y, test_size=0.2, random_state=777, stratify=y)\n",
    "\n",
    "save_current('drp_scld', X_train, y_train, X_test, y_test)\n",
    "\n",
    "# ambos\n",
    "XOHE_scaled = pd.concat([cat_vars_OHE, bin_var, num_vars_scaled, y], axis=1) \n",
    "\n",
    "X = XOHE_scaled.loc[:, XOHE_scaled.columns != 'Target']\n",
    "y = XOHE_scaled['Target']\n",
    "X_train, X_test, y_train, y_test = train_test_split(X, y, test_size=0.2, random_state=777, stratify=y)\n",
    "\n",
    "save_current('drp_XOHE_scld', X_train, y_train, X_test, y_test)"
   ]
  }
 ],
 "metadata": {
  "kernelspec": {
   "display_name": "Python 3",
   "language": "python",
   "name": "python3"
  },
  "language_info": {
   "codemirror_mode": {
    "name": "ipython",
    "version": 3
   },
   "file_extension": ".py",
   "mimetype": "text/x-python",
   "name": "python",
   "nbconvert_exporter": "python",
   "pygments_lexer": "ipython3",
   "version": "3.12.3"
  }
 },
 "nbformat": 4,
 "nbformat_minor": 2
}
