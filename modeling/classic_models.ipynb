{
 "cells": [
  {
   "cell_type": "markdown",
   "metadata": {},
   "source": [
    "## Importações"
   ]
  },
  {
   "cell_type": "code",
   "execution_count": 123,
   "metadata": {},
   "outputs": [],
   "source": [
    "import numpy as np\n",
    "import pandas as pd\n",
    "from sklearn.model_selection import train_test_split\n",
    "from sklearn.feature_selection import SelectKBest, f_classif\n",
    "from sklearn.tree import DecisionTreeClassifier\n",
    "from sklearn.naive_bayes import MultinomialNB\n",
    "from sklearn.linear_model import LogisticRegression\n",
    "from sklearn.model_selection import GridSearchCV\n",
    "from sklearn.model_selection import cross_val_score, StratifiedKFold\n",
    "from sklearn.metrics import make_scorer, f1_score, accuracy_score\n",
    "\n",
    "from sklearn.metrics import confusion_matrix\n",
    "import matplotlib.pyplot as plt\n",
    "import seaborn as sns\n",
    "\n",
    "import joblib\n",
    "\n",
    "import warnings\n",
    "warnings.filterwarnings(\"ignore\")\n",
    "\n",
    "np.random.seed(777)"
   ]
  },
  {
   "cell_type": "markdown",
   "metadata": {},
   "source": [
    "## Funções Principais"
   ]
  },
  {
   "cell_type": "code",
   "execution_count": 124,
   "metadata": {},
   "outputs": [],
   "source": [
    "def prepare_train(path: str, selector) -> list:\n",
    "    df_train = pd.read_csv(path)\n",
    "    X_train = df_train.loc[:, df_train.columns != 'Target']\n",
    "    y_train = df_train['Target']\n",
    "\n",
    "    X_train = selector.fit_transform(X_train, y_train)\n",
    "    return X_train, y_train\n",
    "\n",
    "\n",
    "def prepare_test(path: str, selector) -> list:\n",
    "    df_test = pd.read_csv(path)\n",
    "    X_test = df_test.loc[:, df_test.columns != 'Target']\n",
    "    y_test = df_test['Target']\n",
    "\n",
    "    X_test = selector.transform(X_test)\n",
    "    return X_test, y_test\n",
    "\n",
    "\n",
    "def get_best_clf(clf, param_grid, X_train, y_train):\n",
    "    grid_search = GridSearchCV(estimator=clf, param_grid=param_grid, cv=5, scoring='f1_macro')\n",
    "    grid_search.fit(X_train, y_train)\n",
    "    best_clf = grid_search.best_estimator_\n",
    "\n",
    "    skf = StratifiedKFold(n_splits=5, shuffle=True, random_state=777)\n",
    "\n",
    "    scorer = make_scorer(f1_score, pos_label='Dropout')\n",
    "    cv_scores = cross_val_score(best_clf, X_train, y_train, cv=skf, scoring=scorer)\n",
    "    scorer = make_scorer(accuracy_score)\n",
    "    accuracy_scores = cross_val_score(best_clf, X_train, y_train, cv=skf, scoring=scorer)\n",
    "\n",
    "    print(f'Scores de F1 para cada fold: {cv_scores}')\n",
    "    print(f'Média do F1-score: {cv_scores.mean()}')\n",
    "    print(f'Desvio padrão do F1-score: {cv_scores.std()}')\n",
    "    print(f'Acurácia para cada fold: {accuracy_scores}')\n",
    "    print(f'Média das acurácias: {accuracy_scores.mean()}')\n",
    "\n",
    "    best_clf.fit(X_train, y_train)\n",
    "\n",
    "    print(\"Melhores hiperparâmetros encontrados:\")\n",
    "    print(grid_search.best_params_)\n",
    "\n",
    "    f1 = cv_scores.mean()\n",
    "\n",
    "    return best_clf, f1\n",
    "\n",
    "\n",
    "def print_clf_score(best_clf, X_test, y_test):\n",
    "    y_pred = best_clf.predict(X_test)\n",
    "\n",
    "    cm = confusion_matrix(y_test, y_pred, labels=['Dropout', 'Graduate_or_Enrolled'])\n",
    "    labels = ['Dropout', 'Graduate_or_Enrolled']\n",
    "\n",
    "    cm_percent = cm.astype('float') / cm.sum(axis=1)[:, np.newaxis] * 100\n",
    "\n",
    "    plt.figure(figsize=(8, 6))\n",
    "    sns.heatmap(cm_percent, annot=True, fmt='.1f', cmap='summer')\n",
    "    plt.xlabel('Predicted')\n",
    "    plt.ylabel('True')\n",
    "    plt.title('Confusion Matrix Heatmap')\n",
    "    plt.xticks(np.arange(len(labels)) + 0.5, labels)\n",
    "    plt.yticks(np.arange(len(labels)) + 0.5, labels)\n",
    "    plt.show()\n",
    "\n",
    "\n",
    "def dump_model(best_clf, model_path, X_test, y_test, f1):\n",
    "    y_pred = best_clf.predict(X_test)\n",
    "    a = accuracy_score(y_test, y_pred)\n",
    "    joblib.dump(best_clf, f'{model_path}a{int(100*a)}_f{int(100*f1)}.pkl')"
   ]
  },
  {
   "cell_type": "code",
   "execution_count": 125,
   "metadata": {},
   "outputs": [],
   "source": [
    "train_path = '../data/preprocessed/train-validation/'\n",
    "test_path = '../data/preprocessed/test/'\n",
    "models_path = '../models-dump/'"
   ]
  },
  {
   "cell_type": "markdown",
   "metadata": {},
   "source": [
    "## Naive Bayes"
   ]
  },
  {
   "cell_type": "markdown",
   "metadata": {},
   "source": [
    "### Padrão"
   ]
  },
  {
   "cell_type": "code",
   "execution_count": 126,
   "metadata": {},
   "outputs": [
    {
     "name": "stdout",
     "output_type": "stream",
     "text": [
      "Scores de F1 para cada fold: [0.53488372 0.58468677 0.61611374 0.61784897 0.53395785]\n",
      "Média do F1-score: 0.5774982111266058\n",
      "Desvio padrão do F1-score: 0.037101959021217934\n",
      "Acurácia para cada fold: [0.71751412 0.74717514 0.77118644 0.76412429 0.718529  ]\n",
      "Média das acurácias: 0.7437057991513437\n",
      "Melhores hiperparâmetros encontrados:\n",
      "{'alpha': 0.1}\n"
     ]
    }
   ],
   "source": [
    "data_config = 'drp_XOHE_scld.csv'\n",
    "\n",
    "clf = MultinomialNB()\n",
    "\n",
    "selector = SelectKBest(score_func=f_classif, k=60)\n",
    "\n",
    "X_train, y_train = prepare_train(train_path+data_config, selector)\n",
    "\n",
    "param_grid = {\n",
    "    'alpha': [.1, 1, 5, 10, 1000]\n",
    "}\n",
    "\n",
    "best_clf, f1 = get_best_clf(clf, param_grid, X_train, y_train)\n",
    "\n",
    "#X_test, y_test = prepare_test(test_path+data_config, selector)\n",
    "\n",
    "#print_clf_score(best_clf, X_test, y_test)\n",
    "\n",
    "#dump_model(best_clf, models_path+'naive-bayes/', X_test, y_test, f1)"
   ]
  },
  {
   "cell_type": "markdown",
   "metadata": {},
   "source": [
    "### Rebalanceado"
   ]
  },
  {
   "cell_type": "code",
   "execution_count": 127,
   "metadata": {},
   "outputs": [
    {
     "name": "stdout",
     "output_type": "stream",
     "text": [
      "Scores de F1 para cada fold: [0.76517755 0.74885845 0.77375566 0.74941995 0.76415094]\n",
      "Média do F1-score: 0.7602725098544798\n",
      "Desvio padrão do F1-score: 0.009684582413132978\n",
      "Acurácia para cada fold: [0.76651481 0.74914481 0.77194983 0.75370582 0.77194983]\n",
      "Média das acurácias: 0.7626530182881692\n",
      "Melhores hiperparâmetros encontrados:\n",
      "{'alpha': 0.1}\n"
     ]
    }
   ],
   "source": [
    "data_config = 'drp_XOHE_scld.csv'\n",
    "\n",
    "clf = MultinomialNB()\n",
    "\n",
    "selector = SelectKBest(score_func=f_classif, k=60)\n",
    "\n",
    "X_train, y_train = prepare_train(train_path+'rebalanced/'+data_config, selector)\n",
    "\n",
    "param_grid = {\n",
    "    'alpha': [.1, 1, 5, 10, 1000]\n",
    "}\n",
    "\n",
    "best_clf, f1 = get_best_clf(clf, param_grid, X_train, y_train)\n",
    "\n",
    "#X_test, y_test = prepare_test(test_path+data_config, selector)\n",
    "\n",
    "#print_clf_score(best_clf, X_test, y_test)\n",
    "\n",
    "#dump_model(best_clf, models_path+'naive-bayes/', X_test, y_test, f1)"
   ]
  },
  {
   "cell_type": "markdown",
   "metadata": {},
   "source": [
    "## DTREE"
   ]
  },
  {
   "cell_type": "markdown",
   "metadata": {},
   "source": [
    "### Padrão"
   ]
  },
  {
   "cell_type": "code",
   "execution_count": 128,
   "metadata": {},
   "outputs": [
    {
     "name": "stdout",
     "output_type": "stream",
     "text": [
      "Scores de F1 para cada fold: [0.765      0.75846501 0.77832512 0.73348519 0.74185464]\n",
      "Média do F1-score: 0.7554259929305476\n",
      "Desvio padrão do F1-score: 0.016067655684959863\n",
      "Acurácia para cada fold: [0.86723164 0.84887006 0.87288136 0.83474576 0.85148515]\n",
      "Média das acurácias: 0.8550427924148346\n",
      "Melhores hiperparâmetros encontrados:\n",
      "{'max_depth': 5, 'min_samples_leaf': 4, 'min_samples_split': 2}\n"
     ]
    }
   ],
   "source": [
    "data_config = 'drp_XOHE_scld.csv'\n",
    "\n",
    "clf = DecisionTreeClassifier()\n",
    "\n",
    "selector = SelectKBest(score_func=f_classif, k=60)\n",
    "\n",
    "X_train, y_train = prepare_train(train_path+data_config, selector)\n",
    "\n",
    "param_grid = {\n",
    "    'max_depth': [3, 5, 7, 10],\n",
    "    'min_samples_split': [2, 5, 10],\n",
    "    'min_samples_leaf': [1, 2, 4]\n",
    "}\n",
    "\n",
    "best_clf, f1 = get_best_clf(clf, param_grid, X_train, y_train)\n",
    "\n",
    "#X_test, y_test = prepare_test(test_path+data_config, selector)\n",
    "\n",
    "#print_clf_score(best_clf, X_test, y_test)\n",
    "\n",
    "#dump_model(best_clf, models_path+'decision-tree/', X_test, y_test, f1)"
   ]
  },
  {
   "cell_type": "markdown",
   "metadata": {},
   "source": [
    "### Rebalanceado"
   ]
  },
  {
   "cell_type": "code",
   "execution_count": 129,
   "metadata": {},
   "outputs": [
    {
     "name": "stdout",
     "output_type": "stream",
     "text": [
      "Scores de F1 para cada fold: [0.87868852 0.88288288 0.89309577 0.87336245 0.86101695]\n",
      "Média do F1-score: 0.8778093140829203\n",
      "Desvio padrão do F1-score: 0.010601395730642138\n",
      "Acurácia para cada fold: [0.87357631 0.88141391 0.89053592 0.8677309  0.85974914]\n",
      "Média das acurácias: 0.8746012368734789\n",
      "Melhores hiperparâmetros encontrados:\n",
      "{'max_depth': 3, 'min_samples_leaf': 1, 'min_samples_split': 2}\n"
     ]
    }
   ],
   "source": [
    "data_config = 'drp_XOHE_scld.csv'\n",
    "\n",
    "clf = DecisionTreeClassifier()\n",
    "\n",
    "selector = SelectKBest(score_func=f_classif, k=60)\n",
    "\n",
    "X_train, y_train = prepare_train(train_path+'rebalanced/'+data_config, selector)\n",
    "\n",
    "param_grid = {\n",
    "    'max_depth': [3, 5, 7, 10],\n",
    "    'min_samples_split': [2, 5, 10],\n",
    "    'min_samples_leaf': [1, 2, 4]\n",
    "}\n",
    "\n",
    "best_clf, f1 = get_best_clf(clf, param_grid, X_train, y_train)\n",
    "\n",
    "#X_test, y_test = prepare_test(test_path+data_config, selector)\n",
    "\n",
    "#print_clf_score(best_clf, X_test, y_test)\n",
    "\n",
    "#dump_model(best_clf, models_path+'decision-tree/', X_test, y_test, f1)"
   ]
  },
  {
   "cell_type": "markdown",
   "metadata": {},
   "source": [
    "## Logistic Regression"
   ]
  },
  {
   "cell_type": "markdown",
   "metadata": {},
   "source": [
    "### Padrão"
   ]
  },
  {
   "cell_type": "code",
   "execution_count": 130,
   "metadata": {},
   "outputs": [
    {
     "name": "stdout",
     "output_type": "stream",
     "text": [
      "Scores de F1 para cada fold: [0.80092593 0.75990676 0.78486998 0.76009501 0.73123487]\n",
      "Média do F1-score: 0.7674065081793191\n",
      "Desvio padrão do F1-score: 0.02386049424184817\n",
      "Acurácia para cada fold: [0.87853107 0.85875706 0.86864407 0.85734463 0.84299859]\n",
      "Média das acurácias: 0.861255084346207\n",
      "Melhores hiperparâmetros encontrados:\n",
      "{'C': 1, 'class_weight': None, 'penalty': 'l1', 'solver': 'liblinear'}\n"
     ]
    }
   ],
   "source": [
    "data_config = 'drp_XOHE_scld.csv'\n",
    "\n",
    "clf = LogisticRegression()\n",
    "\n",
    "selector = SelectKBest(score_func=f_classif, k=60)\n",
    "\n",
    "X_train, y_train = prepare_train(train_path+data_config, selector)\n",
    "\n",
    "param_grid = {\n",
    "    'penalty': ['l1', 'l2', 'elasticnet', None],\n",
    "    'C': [.1, 1, 10, 100, 1000],\n",
    "    'class_weight': ['balanced', None, {\n",
    "        'Dropout': 2,\n",
    "        'Graduate_or_Enrolled': 1\n",
    "    }],\n",
    "    'solver': ['lbfgs', 'liblinear', 'newton-cholesky']\n",
    "}\n",
    "\n",
    "best_clf, f1 = get_best_clf(clf, param_grid, X_train, y_train)\n",
    "\n",
    "#X_test, y_test = prepare_test(test_path+data_config, selector)\n",
    "\n",
    "#print_clf_score(best_clf, X_test, y_test)\n",
    "\n",
    "#dump_model(best_clf, models_path+'logistic-regression/', X_test, y_test, f1)"
   ]
  },
  {
   "cell_type": "markdown",
   "metadata": {},
   "source": [
    "### Rebalanceado"
   ]
  },
  {
   "cell_type": "code",
   "execution_count": 131,
   "metadata": {},
   "outputs": [
    {
     "name": "stdout",
     "output_type": "stream",
     "text": [
      "Scores de F1 para cada fold: [0.8758465  0.86887115 0.86987104 0.85290764 0.85035629]\n",
      "Média do F1-score: 0.8635705260751795\n",
      "Desvio padrão do F1-score: 0.010067827717102882\n",
      "Acurácia para cada fold: [0.87357631 0.86659065 0.87343216 0.85632839 0.85746864]\n",
      "Média das acurácias: 0.8654792300319738\n",
      "Melhores hiperparâmetros encontrados:\n",
      "{'C': 10, 'class_weight': 'balanced', 'penalty': 'l1', 'solver': 'liblinear'}\n"
     ]
    }
   ],
   "source": [
    "data_config = 'drp_XOHE_scld.csv'\n",
    "\n",
    "clf = LogisticRegression()\n",
    "\n",
    "selector = SelectKBest(score_func=f_classif, k=60)\n",
    "\n",
    "X_train, y_train = prepare_train(train_path+'rebalanced/'+data_config, selector)\n",
    "\n",
    "param_grid = {\n",
    "    'penalty': ['l1', 'l2', 'elasticnet', None],\n",
    "    'C': [.1, 1, 10, 100, 1000],\n",
    "    'class_weight': ['balanced', None, {\n",
    "        'Dropout': 2,\n",
    "        'Graduate_or_Enrolled': 1\n",
    "    }],\n",
    "    'solver': ['lbfgs', 'liblinear', 'newton-cholesky']\n",
    "}\n",
    "\n",
    "best_clf, f1 = get_best_clf(clf, param_grid, X_train, y_train)"
   ]
  },
  {
   "cell_type": "markdown",
   "metadata": {},
   "source": [
    "## Testando melhor modelo e armazenando"
   ]
  },
  {
   "cell_type": "code",
   "execution_count": 132,
   "metadata": {},
   "outputs": [
    {
     "data": {
      "image/png": "[encoded data removed]",
      "text/plain": [
       "<Figure size 800x600 with 2 Axes>"
      ]
     },
     "metadata": {},
     "output_type": "display_data"
    }
   ],
   "source": [
    "X_test, y_test = prepare_test(test_path+data_config, selector)\n",
    "\n",
    "print_clf_score(best_clf, X_test, y_test)\n",
    "\n",
    "dump_model(best_clf, models_path+'logistic-regression/', X_test, y_test, f1)"
   ]
  },
  {
   "cell_type": "markdown",
   "metadata": {},
   "source": [
    "## Carregando melhor modelo"
   ]
  },
  {
   "cell_type": "code",
   "execution_count": 133,
   "metadata": {},
   "outputs": [
    {
     "name": "stdout",
     "output_type": "stream",
     "text": [
      "Acurácia do melhor modelo no conjunto de teste: 0.823728813559322\n"
     ]
    }
   ],
   "source": [
    "loaded_clf = joblib.load(f'{models_path}logistic-regression/a82_f86.pkl')\n",
    "\n",
    "# Avaliar o modelo carregado\n",
    "print(\"Acurácia do melhor modelo no conjunto de teste:\", loaded_clf.score(X_test, y_test))"
   ]
  }
 ],
 "metadata": {
  "kernelspec": {
   "display_name": "Python 3",
   "language": "python",
   "name": "python3"
  },
  "language_info": {
   "codemirror_mode": {
    "name": "ipython",
    "version": 3
   },
   "file_extension": ".py",
   "mimetype": "text/x-python",
   "name": "python",
   "nbconvert_exporter": "python",
   "pygments_lexer": "ipython3",
   "version": "3.12.3"
  }
 },
 "nbformat": 4,
 "nbformat_minor": 2
}
